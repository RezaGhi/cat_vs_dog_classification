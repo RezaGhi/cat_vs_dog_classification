{
 "cells": [
  {
   "cell_type": "code",
   "execution_count": 5,
   "metadata": {
    "_cell_guid": "b1076dfc-b9ad-4769-8c92-a6c4dae69d19",
    "_uuid": "8f2839f25d086af736a60e9eeb907d3b93b6e0e5",
    "execution": {
     "iopub.execute_input": "2022-08-12T10:52:03.247457Z",
     "iopub.status.busy": "2022-08-12T10:52:03.247005Z",
     "iopub.status.idle": "2022-08-12T10:52:03.253823Z",
     "shell.execute_reply": "2022-08-12T10:52:03.252715Z",
     "shell.execute_reply.started": "2022-08-12T10:52:03.247413Z"
    }
   },
   "outputs": [],
   "source": [
    "import numpy as np\n",
    "import matplotlib.pyplot as plt\n",
    "import tensorflow as tf\n",
    "from tensorflow import keras\n",
    "from sklearn.model_selection import train_test_split\n",
    "import cv2\n",
    "import os\n",
    "import glob"
   ]
  },
  {
   "cell_type": "code",
   "execution_count": 6,
   "metadata": {
    "execution": {
     "iopub.execute_input": "2022-08-12T10:52:03.476433Z",
     "iopub.status.busy": "2022-08-12T10:52:03.475657Z",
     "iopub.status.idle": "2022-08-12T10:52:03.497137Z",
     "shell.execute_reply": "2022-08-12T10:52:03.496106Z",
     "shell.execute_reply.started": "2022-08-12T10:52:03.476391Z"
    }
   },
   "outputs": [],
   "source": [
    "main_path = '../input/microsoft-catsvsdogs-dataset/PetImages'\n",
    "folders=[]\n",
    "for i in os.listdir(main_path):\n",
    "    folders.append(i)\n",
    "folders"
   ]
  },
  {
   "cell_type": "code",
   "execution_count": 7,
   "metadata": {
    "execution": {
     "iopub.execute_input": "2022-08-12T10:52:03.994949Z",
     "iopub.status.busy": "2022-08-12T10:52:03.994198Z",
     "iopub.status.idle": "2022-08-12T10:52:04.613022Z",
     "shell.execute_reply": "2022-08-12T10:52:04.612062Z",
     "shell.execute_reply.started": "2022-08-12T10:52:03.994895Z"
    }
   },
   "outputs": [],
   "source": [
    "for folder in folders:\n",
    "    local_path = os.path.join(main_path,folder)\n",
    "    for img in glob.glob(f'{local_path}/*.jpg'):\n",
    "        img_array=plt.imread(img)\n",
    "        plt.imshow(plt.imread(img))\n",
    "        break\n",
    "    break"
   ]
  },
  {
   "cell_type": "code",
   "execution_count": 8,
   "metadata": {
    "execution": {
     "iopub.execute_input": "2022-08-12T10:52:04.615059Z",
     "iopub.status.busy": "2022-08-12T10:52:04.614636Z",
     "iopub.status.idle": "2022-08-12T10:52:04.621988Z",
     "shell.execute_reply": "2022-08-12T10:52:04.620998Z",
     "shell.execute_reply.started": "2022-08-12T10:52:04.615020Z"
    }
   },
   "outputs": [],
   "source": [
    "img_array.shape"
   ]
  },
  {
   "cell_type": "code",
   "execution_count": 9,
   "metadata": {
    "execution": {
     "iopub.execute_input": "2022-08-12T10:52:04.624044Z",
     "iopub.status.busy": "2022-08-12T10:52:04.623487Z",
     "iopub.status.idle": "2022-08-12T10:52:04.834570Z",
     "shell.execute_reply": "2022-08-12T10:52:04.833395Z",
     "shell.execute_reply.started": "2022-08-12T10:52:04.623991Z"
    }
   },
   "outputs": [],
   "source": [
    "IMAGE_SIZE=150\n",
    "resized_img=cv2.resize(img_array,(IMAGE_SIZE,IMAGE_SIZE))\n",
    "plt.imshow(resized_img)"
   ]
  },
  {
   "cell_type": "code",
   "execution_count": 10,
   "metadata": {
    "execution": {
     "iopub.execute_input": "2022-08-12T10:52:04.836607Z",
     "iopub.status.busy": "2022-08-12T10:52:04.836194Z",
     "iopub.status.idle": "2022-08-12T10:52:04.845382Z",
     "shell.execute_reply": "2022-08-12T10:52:04.843817Z",
     "shell.execute_reply.started": "2022-08-12T10:52:04.836571Z"
    }
   },
   "outputs": [],
   "source": [
    "classes={\n",
    "    'Cat':0 , 'Dog':1\n",
    "}\n",
    "\n",
    "\n",
    "def get_class(num):\n",
    "    for i,j in classes.items():\n",
    "        if j==num:\n",
    "            print(i)"
   ]
  },
  {
   "cell_type": "code",
   "execution_count": 11,
   "metadata": {
    "execution": {
     "iopub.execute_input": "2022-08-12T10:52:04.882023Z",
     "iopub.status.busy": "2022-08-12T10:52:04.881591Z",
     "iopub.status.idle": "2022-08-12T10:52:04.888287Z",
     "shell.execute_reply": "2022-08-12T10:52:04.886973Z",
     "shell.execute_reply.started": "2022-08-12T10:52:04.881988Z"
    }
   },
   "outputs": [],
   "source": [
    "get_class(1)"
   ]
  },
  {
   "cell_type": "code",
   "execution_count": 12,
   "metadata": {
    "execution": {
     "iopub.execute_input": "2022-08-12T10:52:05.078144Z",
     "iopub.status.busy": "2022-08-12T10:52:05.077341Z",
     "iopub.status.idle": "2022-08-12T10:55:08.417690Z",
     "shell.execute_reply": "2022-08-12T10:55:08.415963Z",
     "shell.execute_reply.started": "2022-08-12T10:52:05.078093Z"
    }
   },
   "outputs": [],
   "source": [
    "data=[]\n",
    "for folder in folders:\n",
    "    local_path=os.path.join(main_path,folder)\n",
    "    for img in glob.glob(f'{local_path}/*.jpg'):\n",
    "        try:\n",
    "            img_array=cv2.imread(img,cv2.IMREAD_GRAYSCALE)\n",
    "            resized_img=cv2.resize(img_array,(IMAGE_SIZE,IMAGE_SIZE))\n",
    "            data.append([resized_img,classes[folder]])\n",
    "        except Exception as e:\n",
    "            pass"
   ]
  },
  {
   "cell_type": "code",
   "execution_count": 13,
   "metadata": {
    "execution": {
     "iopub.execute_input": "2022-08-12T10:55:08.420768Z",
     "iopub.status.busy": "2022-08-12T10:55:08.420312Z",
     "iopub.status.idle": "2022-08-12T10:55:08.616312Z",
     "shell.execute_reply": "2022-08-12T10:55:08.615075Z",
     "shell.execute_reply.started": "2022-08-12T10:55:08.420728Z"
    }
   },
   "outputs": [],
   "source": [
    "plt.imshow(data[10000][0])"
   ]
  },
  {
   "cell_type": "code",
   "execution_count": 14,
   "metadata": {
    "execution": {
     "iopub.execute_input": "2022-08-12T10:55:08.618272Z",
     "iopub.status.busy": "2022-08-12T10:55:08.617881Z",
     "iopub.status.idle": "2022-08-12T10:55:08.655017Z",
     "shell.execute_reply": "2022-08-12T10:55:08.653001Z",
     "shell.execute_reply.started": "2022-08-12T10:55:08.618240Z"
    }
   },
   "outputs": [],
   "source": [
    "import random\n",
    "random.shuffle(data)"
   ]
  },
  {
   "cell_type": "code",
   "execution_count": 15,
   "metadata": {
    "execution": {
     "iopub.execute_input": "2022-08-12T10:55:08.660020Z",
     "iopub.status.busy": "2022-08-12T10:55:08.659411Z",
     "iopub.status.idle": "2022-08-12T10:55:08.859625Z",
     "shell.execute_reply": "2022-08-12T10:55:08.857983Z",
     "shell.execute_reply.started": "2022-08-12T10:55:08.659969Z"
    }
   },
   "outputs": [],
   "source": [
    "plt.imshow(data[0][0])"
   ]
  },
  {
   "cell_type": "markdown",
   "metadata": {},
   "source": []
  },
  {
   "cell_type": "code",
   "execution_count": 16,
   "metadata": {
    "execution": {
     "iopub.execute_input": "2022-08-12T10:55:08.861657Z",
     "iopub.status.busy": "2022-08-12T10:55:08.861253Z",
     "iopub.status.idle": "2022-08-12T10:55:08.870286Z",
     "shell.execute_reply": "2022-08-12T10:55:08.868452Z",
     "shell.execute_reply.started": "2022-08-12T10:55:08.861624Z"
    }
   },
   "outputs": [],
   "source": [
    "len(data)"
   ]
  },
  {
   "cell_type": "code",
   "execution_count": 17,
   "metadata": {
    "execution": {
     "iopub.execute_input": "2022-08-12T10:55:08.872626Z",
     "iopub.status.busy": "2022-08-12T10:55:08.872200Z",
     "iopub.status.idle": "2022-08-12T10:55:08.898237Z",
     "shell.execute_reply": "2022-08-12T10:55:08.896897Z",
     "shell.execute_reply.started": "2022-08-12T10:55:08.872576Z"
    }
   },
   "outputs": [],
   "source": [
    "x,y=[],[]\n",
    "for feature,label in data:\n",
    "    x.append(feature)\n",
    "    y.append(label)"
   ]
  },
  {
   "cell_type": "code",
   "execution_count": 18,
   "metadata": {
    "execution": {
     "iopub.execute_input": "2022-08-12T10:55:08.901458Z",
     "iopub.status.busy": "2022-08-12T10:55:08.899987Z",
     "iopub.status.idle": "2022-08-12T10:55:08.916746Z",
     "shell.execute_reply": "2022-08-12T10:55:08.914866Z",
     "shell.execute_reply.started": "2022-08-12T10:55:08.901383Z"
    }
   },
   "outputs": [],
   "source": [
    "len(x),len(y)"
   ]
  },
  {
   "cell_type": "code",
   "execution_count": 19,
   "metadata": {
    "execution": {
     "iopub.execute_input": "2022-08-12T10:55:08.919624Z",
     "iopub.status.busy": "2022-08-12T10:55:08.919019Z",
     "iopub.status.idle": "2022-08-12T10:55:08.935281Z",
     "shell.execute_reply": "2022-08-12T10:55:08.933786Z",
     "shell.execute_reply.started": "2022-08-12T10:55:08.919581Z"
    }
   },
   "outputs": [],
   "source": [
    "Y=np.array(y)"
   ]
  },
  {
   "cell_type": "code",
   "execution_count": 20,
   "metadata": {
    "execution": {
     "iopub.execute_input": "2022-08-12T10:55:08.938083Z",
     "iopub.status.busy": "2022-08-12T10:55:08.937314Z",
     "iopub.status.idle": "2022-08-12T10:55:10.728053Z",
     "shell.execute_reply": "2022-08-12T10:55:10.726451Z",
     "shell.execute_reply.started": "2022-08-12T10:55:08.938020Z"
    }
   },
   "outputs": [],
   "source": [
    "X=np.array(x).reshape(-1,IMAGE_SIZE,IMAGE_SIZE,1)\n",
    "\n",
    "X=X/255.0"
   ]
  },
  {
   "cell_type": "code",
   "execution_count": 21,
   "metadata": {
    "execution": {
     "iopub.execute_input": "2022-08-12T10:55:10.734538Z",
     "iopub.status.busy": "2022-08-12T10:55:10.733262Z",
     "iopub.status.idle": "2022-08-12T10:55:10.928203Z",
     "shell.execute_reply": "2022-08-12T10:55:10.927008Z",
     "shell.execute_reply.started": "2022-08-12T10:55:10.734478Z"
    }
   },
   "outputs": [],
   "source": [
    "plt.imshow(X[0])"
   ]
  },
  {
   "cell_type": "code",
   "execution_count": 22,
   "metadata": {
    "execution": {
     "iopub.execute_input": "2022-08-12T10:55:10.929893Z",
     "iopub.status.busy": "2022-08-12T10:55:10.929500Z",
     "iopub.status.idle": "2022-08-12T10:55:10.938833Z",
     "shell.execute_reply": "2022-08-12T10:55:10.937269Z",
     "shell.execute_reply.started": "2022-08-12T10:55:10.929856Z"
    }
   },
   "outputs": [],
   "source": [
    "X.shape,Y.shape"
   ]
  },
  {
   "cell_type": "code",
   "execution_count": 23,
   "metadata": {
    "execution": {
     "iopub.execute_input": "2022-08-12T10:55:10.940890Z",
     "iopub.status.busy": "2022-08-12T10:55:10.940394Z",
     "iopub.status.idle": "2022-08-12T10:55:12.379625Z",
     "shell.execute_reply": "2022-08-12T10:55:12.378153Z",
     "shell.execute_reply.started": "2022-08-12T10:55:10.940829Z"
    }
   },
   "outputs": [],
   "source": [
    "x_train,x_test,y_train,y_test=train_test_split(X,Y,random_state=42)\n",
    "x_train.shape"
   ]
  },
  {
   "cell_type": "code",
   "execution_count": 29,
   "metadata": {
    "execution": {
     "iopub.execute_input": "2022-08-12T10:58:29.483763Z",
     "iopub.status.busy": "2022-08-12T10:58:29.482760Z",
     "iopub.status.idle": "2022-08-12T10:58:29.784365Z",
     "shell.execute_reply": "2022-08-12T10:58:29.783269Z",
     "shell.execute_reply.started": "2022-08-12T10:58:29.483722Z"
    }
   },
   "outputs": [],
   "source": [
    "model=keras.models.Sequential([\n",
    "    keras.layers.Conv2D(64,3,activation='relu',padding='same',input_shape=(x_train.shape[1:])),\n",
    "    keras.layers.Dropout(0.25),\n",
    "    keras.layers.MaxPooling2D(2),\n",
    "    \n",
    "    \n",
    "    keras.layers.Conv2D(128,3,activation='relu',padding='same'),\n",
    "    keras.layers.Dropout(0.25),\n",
    "    keras.layers.MaxPooling2D(2),\n",
    "    \n",
    "\n",
    "    keras.layers.Conv2D(256,3,activation='relu',padding='same'),\n",
    "    keras.layers.Dropout(0.25),\n",
    "    keras.layers.MaxPooling2D(2),\n",
    "    \n",
    "    keras.layers.Flatten(),\n",
    "    keras.layers.Dense(512,activation='relu'),\n",
    "    keras.layers.Dropout(0.25),\n",
    "    \n",
    "    keras.layers.Dense(1,activation='sigmoid')\n",
    "])"
   ]
  },
  {
   "cell_type": "code",
   "execution_count": 30,
   "metadata": {
    "execution": {
     "iopub.execute_input": "2022-08-12T10:58:30.409924Z",
     "iopub.status.busy": "2022-08-12T10:58:30.409032Z",
     "iopub.status.idle": "2022-08-12T10:58:30.420696Z",
     "shell.execute_reply": "2022-08-12T10:58:30.419586Z",
     "shell.execute_reply.started": "2022-08-12T10:58:30.409879Z"
    }
   },
   "outputs": [],
   "source": [
    "model.compile(loss='binary_crossentropy',\n",
    "              optimizer='adam',\n",
    "              metrics=['accuracy'])"
   ]
  },
  {
   "cell_type": "code",
   "execution_count": 31,
   "metadata": {
    "execution": {
     "iopub.execute_input": "2022-08-12T10:58:32.001342Z",
     "iopub.status.busy": "2022-08-12T10:58:32.000909Z",
     "iopub.status.idle": "2022-08-12T10:58:32.010914Z",
     "shell.execute_reply": "2022-08-12T10:58:32.009764Z",
     "shell.execute_reply.started": "2022-08-12T10:58:32.001308Z"
    }
   },
   "outputs": [],
   "source": [
    "model.summary()"
   ]
  },
  {
   "cell_type": "code",
   "execution_count": 32,
   "metadata": {
    "execution": {
     "iopub.execute_input": "2022-08-12T11:00:33.754868Z",
     "iopub.status.busy": "2022-08-12T11:00:33.754336Z",
     "iopub.status.idle": "2022-08-12T14:27:59.249182Z",
     "shell.execute_reply": "2022-08-12T14:27:59.246177Z",
     "shell.execute_reply.started": "2022-08-12T11:00:33.754830Z"
    }
   },
   "outputs": [],
   "source": [
    "history=model.fit(x_train,y_train,epochs=10,validation_split=0.15)"
   ]
  },
  {
   "cell_type": "code",
   "execution_count": 34,
   "metadata": {
    "execution": {
     "iopub.execute_input": "2022-08-12T14:29:39.332310Z",
     "iopub.status.busy": "2022-08-12T14:29:39.331869Z",
     "iopub.status.idle": "2022-08-12T14:31:18.821672Z",
     "shell.execute_reply": "2022-08-12T14:31:18.820647Z",
     "shell.execute_reply.started": "2022-08-12T14:29:39.332272Z"
    }
   },
   "outputs": [],
   "source": [
    "loss,acc=model.evaluate(x_test,y_test)\n",
    "loss,acc"
   ]
  },
  {
   "cell_type": "code",
   "execution_count": 35,
   "metadata": {
    "execution": {
     "iopub.execute_input": "2022-08-12T14:35:43.626481Z",
     "iopub.status.busy": "2022-08-12T14:35:43.625935Z",
     "iopub.status.idle": "2022-08-12T14:37:24.054093Z",
     "shell.execute_reply": "2022-08-12T14:37:24.052662Z",
     "shell.execute_reply.started": "2022-08-12T14:35:43.626440Z"
    }
   },
   "outputs": [],
   "source": [
    "model.predict(x_test)"
   ]
  },
  {
   "cell_type": "markdown",
   "metadata": {},
   "source": []
  },
  {
   "cell_type": "code",
   "execution_count": 42,
   "metadata": {
    "execution": {
     "iopub.execute_input": "2022-08-12T14:41:01.277247Z",
     "iopub.status.busy": "2022-08-12T14:41:01.276798Z",
     "iopub.status.idle": "2022-08-12T14:41:01.535412Z",
     "shell.execute_reply": "2022-08-12T14:41:01.533844Z",
     "shell.execute_reply.started": "2022-08-12T14:41:01.277209Z"
    }
   },
   "outputs": [],
   "source": [
    "plt.imshow(x_test[0])"
   ]
  },
  {
   "cell_type": "code",
   "execution_count": null,
   "metadata": {},
   "outputs": [],
   "source": []
  }
 ],
 "metadata": {
  "kernelspec": {
   "display_name": "Python 3 (ipykernel)",
   "language": "python",
   "name": "python3"
  },
  "language_info": {
   "codemirror_mode": {
    "name": "ipython",
    "version": 3
   },
   "file_extension": ".py",
   "mimetype": "text/x-python",
   "name": "python",
   "nbconvert_exporter": "python",
   "pygments_lexer": "ipython3",
   "version": "3.9.12"
  }
 },
 "nbformat": 4,
 "nbformat_minor": 4
}
