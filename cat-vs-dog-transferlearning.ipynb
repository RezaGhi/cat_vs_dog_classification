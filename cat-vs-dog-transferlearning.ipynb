{
 "cells": [
  {
   "cell_type": "code",
   "execution_count": 1,
   "metadata": {
    "_cell_guid": "b1076dfc-b9ad-4769-8c92-a6c4dae69d19",
    "_uuid": "8f2839f25d086af736a60e9eeb907d3b93b6e0e5",
    "execution": {
     "iopub.execute_input": "2022-08-14T09:10:39.211323Z",
     "iopub.status.busy": "2022-08-14T09:10:39.210283Z",
     "iopub.status.idle": "2022-08-14T09:10:44.573359Z",
     "shell.execute_reply": "2022-08-14T09:10:44.572200Z",
     "shell.execute_reply.started": "2022-08-14T09:10:39.211283Z"
    }
   },
   "outputs": [
    {
     "ename": "ModuleNotFoundError",
     "evalue": "No module named 'pandas'",
     "output_type": "error",
     "traceback": [
      "\u001b[1;31m---------------------------------------------------------------------------\u001b[0m",
      "\u001b[1;31mModuleNotFoundError\u001b[0m                       Traceback (most recent call last)",
      "Input \u001b[1;32mIn [1]\u001b[0m, in \u001b[0;36m<cell line: 2>\u001b[1;34m()\u001b[0m\n\u001b[0;32m      1\u001b[0m \u001b[38;5;28;01mimport\u001b[39;00m \u001b[38;5;21;01mnumpy\u001b[39;00m \u001b[38;5;28;01mas\u001b[39;00m \u001b[38;5;21;01mnp\u001b[39;00m\n\u001b[1;32m----> 2\u001b[0m \u001b[38;5;28;01mimport\u001b[39;00m \u001b[38;5;21;01mpandas\u001b[39;00m \u001b[38;5;28;01mas\u001b[39;00m \u001b[38;5;21;01mnp\u001b[39;00m\n\u001b[0;32m      3\u001b[0m \u001b[38;5;28;01mimport\u001b[39;00m \u001b[38;5;21;01mmatplotlib\u001b[39;00m\u001b[38;5;21;01m.\u001b[39;00m\u001b[38;5;21;01mpyplot\u001b[39;00m \u001b[38;5;28;01mas\u001b[39;00m \u001b[38;5;21;01mplt\u001b[39;00m\n\u001b[0;32m      4\u001b[0m \u001b[38;5;28;01mimport\u001b[39;00m \u001b[38;5;21;01mtensorflow\u001b[39;00m \u001b[38;5;28;01mas\u001b[39;00m \u001b[38;5;21;01mtf\u001b[39;00m\n",
      "\u001b[1;31mModuleNotFoundError\u001b[0m: No module named 'pandas'"
     ]
    }
   ],
   "source": [
    "import numpy as np\n",
    "import pandas as np\n",
    "import matplotlib.pyplot as plt\n",
    "import tensorflow as tf\n",
    "from tensorflow import keras\n",
    "import os\n",
    "import random\n",
    "import glob\n",
    "from shutil import copyfile\n",
    "from sklearn.model_selection import train_test_split"
   ]
  },
  {
   "cell_type": "code",
   "execution_count": null,
   "metadata": {
    "execution": {
     "iopub.execute_input": "2022-08-14T09:10:47.863743Z",
     "iopub.status.busy": "2022-08-14T09:10:47.863123Z",
     "iopub.status.idle": "2022-08-14T09:10:47.881162Z",
     "shell.execute_reply": "2022-08-14T09:10:47.879844Z",
     "shell.execute_reply.started": "2022-08-14T09:10:47.863709Z"
    }
   },
   "outputs": [],
   "source": [
    "main_path='../input/microsoft-catsvsdogs-dataset/PetImages'\n",
    "folders=[]\n",
    "for folder in os.listdir(main_path):\n",
    "    folders.append(folder)\n",
    "print(folders)\n"
   ]
  },
  {
   "cell_type": "code",
   "execution_count": 4,
   "metadata": {
    "execution": {
     "iopub.execute_input": "2022-08-14T09:10:50.264858Z",
     "iopub.status.busy": "2022-08-14T09:10:50.264460Z",
     "iopub.status.idle": "2022-08-14T09:15:35.888503Z",
     "shell.execute_reply": "2022-08-14T09:15:35.887447Z",
     "shell.execute_reply.started": "2022-08-14T09:10:50.264826Z"
    }
   },
   "outputs": [],
   "source": [
    "os.mkdir('./data')\n",
    "os.mkdir('./data/train')\n",
    "os.mkdir('./data/valid')\n",
    "for folder in folders:\n",
    "    files=os.listdir(os.path.join(main_path,folder))\n",
    "    images=[]\n",
    "    for img in files:\n",
    "        try:\n",
    "            img_arr=tf.io.read_file(os.path.join(main_path,folder,img))\n",
    "            img_arr=tf.image.decode_image(img_arr,channels=3)\n",
    "            if img_arr.ndim==3:\n",
    "                images.append(img)\n",
    "        except:\n",
    "            pass\n",
    "    random.shuffle(images)\n",
    "    count=len(images)\n",
    "    split=int(0.8*count)\n",
    "    os.mkdir(os.path.join('./data/train',folder))\n",
    "    os.mkdir(os.path.join('./data/valid',folder))\n",
    "    for c in range(split):\n",
    "        source_file=os.path.join(main_path,folder,images[c])\n",
    "        destination=os.path.join('./data/train',folder,images[c])\n",
    "        copyfile(source_file,destination)\n",
    "    for c in range(split,count):\n",
    "        source_file=os.path.join(main_path,folder,images[c])\n",
    "        destination=os.path.join('./data/valid',folder,images[c])\n",
    "        copyfile(source_file,destination)"
   ]
  },
  {
   "cell_type": "code",
   "execution_count": 8,
   "metadata": {
    "execution": {
     "iopub.execute_input": "2022-08-14T09:17:49.158266Z",
     "iopub.status.busy": "2022-08-14T09:17:49.157833Z",
     "iopub.status.idle": "2022-08-14T09:17:49.162974Z",
     "shell.execute_reply": "2022-08-14T09:17:49.162120Z",
     "shell.execute_reply.started": "2022-08-14T09:17:49.158230Z"
    }
   },
   "outputs": [],
   "source": [
    "train_path='./data/train'\n",
    "valid_path='./data/valid'"
   ]
  },
  {
   "cell_type": "code",
   "execution_count": 11,
   "metadata": {
    "execution": {
     "iopub.execute_input": "2022-08-14T09:19:36.147253Z",
     "iopub.status.busy": "2022-08-14T09:19:36.146210Z",
     "iopub.status.idle": "2022-08-14T09:19:37.318987Z",
     "shell.execute_reply": "2022-08-14T09:19:37.317908Z",
     "shell.execute_reply.started": "2022-08-14T09:19:36.147194Z"
    }
   },
   "outputs": [],
   "source": [
    "train_batches=keras.preprocessing.image.ImageDataGenerator().flow_from_directory(\n",
    "    train_path,\n",
    "    target_size=(224,224),\n",
    "    batch_size=10\n",
    ")\n",
    "\n",
    "valid_batches=keras.preprocessing.image.ImageDataGenerator().flow_from_directory(\n",
    "    valid_path,\n",
    "    target_size=(224,224),\n",
    "    batch_size=30\n",
    ")"
   ]
  },
  {
   "cell_type": "code",
   "execution_count": null,
   "metadata": {},
   "outputs": [],
   "source": [
    "from keras.applications.vgg16 import VGG16\n",
    "base_model = VGG16(weights='imagenet' , include_top = False , \n",
    "                  input_shape=(224,224,3))"
   ]
  },
  {
   "cell_type": "code",
   "execution_count": null,
   "metadata": {},
   "outputs": [],
   "source": [
    "base_model.summary()"
   ]
  },
  {
   "cell_type": "code",
   "execution_count": null,
   "metadata": {},
   "outputs": [],
   "source": [
    "for layer in base_model.layers:\n",
    "  layer.trainable=False"
   ]
  },
  {
   "cell_type": "code",
   "execution_count": null,
   "metadata": {},
   "outputs": [],
   "source": [
    "last_layer = base_model.get_layer('block5_pool')\n",
    "last_out=last_layer.output\n",
    "x=keras.layers.Flatten()(last_out)\n",
    "x=keras.layers.Dense(64,activation='relu')(x)\n",
    "x=keras.layers.BatchNormalization()(x)\n",
    "x=keras.layers.Dropout(0.25)(x)\n",
    "x=keras.layers.Dense(2,activation='sigmoid')(x)"
   ]
  },
  {
   "cell_type": "code",
   "execution_count": null,
   "metadata": {},
   "outputs": [],
   "source": [
    "model=keras.Model(inputs=base_model.input , outputs=x)"
   ]
  },
  {
   "cell_type": "code",
   "execution_count": null,
   "metadata": {},
   "outputs": [],
   "source": [
    "model.compile(loss='binary_crossentropy',\n",
    "              optimizer='adam',\n",
    "              metrics=['accuracy'])"
   ]
  },
  {
   "cell_type": "code",
   "execution_count": null,
   "metadata": {},
   "outputs": [],
   "source": [
    "model.fit(train_batches,validation_data=valid_batches,epochs=20)"
   ]
  }
 ],
 "metadata": {
  "kernelspec": {
   "display_name": "Python 3 (ipykernel)",
   "language": "python",
   "name": "python3"
  },
  "language_info": {
   "codemirror_mode": {
    "name": "ipython",
    "version": 3
   },
   "file_extension": ".py",
   "mimetype": "text/x-python",
   "name": "python",
   "nbconvert_exporter": "python",
   "pygments_lexer": "ipython3",
   "version": "3.9.12"
  }
 },
 "nbformat": 4,
 "nbformat_minor": 4
}
